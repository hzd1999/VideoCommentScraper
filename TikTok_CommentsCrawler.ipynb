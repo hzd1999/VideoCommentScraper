{
 "cells": [
  {
   "cell_type": "code",
   "execution_count": 71,
   "metadata": {},
   "outputs": [],
   "source": [
    "import numpy as np\n",
    "import pandas as pd\n",
    "import requests\n",
    "import urllib.request\n",
    "from urllib.request import urlopen\n",
    "from bs4 import BeautifulSoup \n",
    "from lxml import etree\n",
    "import json\n",
    "import csv,codecs\n",
    "import time"
   ]
  },
  {
   "cell_type": "markdown",
   "metadata": {},
   "source": [
    "Notes:\n",
    "- Find the ranking website, retrieve the trending tiktok links\n",
    "- extract the top comments."
   ]
  },
  {
   "cell_type": "code",
   "execution_count": 131,
   "metadata": {},
   "outputs": [],
   "source": [
    "def getUrls(n):\n",
    "    url= \"http://www.ijiandao.com/hot/media/douyin\"\n",
    "    headers = { \n",
    "        'User-Agent': 'Mozilla/5.0 (Windows NT 10.0; WOW64) AppleWebKit/537.36 (KHTML, like Gecko) Chrome/67.0.3396.99 Safari/537.36'\n",
    "    } \n",
    "    try:\n",
    "        response = requests.get(url,headers=headers)\n",
    "        soup = BeautifulSoup(response.text,'lxml')\n",
    "    except Exception as e:\n",
    "        print(e)\n",
    "    links = soup.find(class_ = \"hot_new_list hot_classify\").findAll(\"a\")\n",
    "    urls = []\n",
    "    txt = []\n",
    "    for i in range(n):\n",
    "        link = links[i]\n",
    "        u = \"http://www.ijiandao.com\" + link['href']\n",
    "        title = link.getText()\n",
    "        urls.append(u)\n",
    "        txt.append(title)\n",
    "    df = pd.DataFrame({'url':urls,'title':txt})\n",
    "    return df"
   ]
  },
  {
   "cell_type": "code",
   "execution_count": 158,
   "metadata": {},
   "outputs": [],
   "source": [
    "def get_tiktokLink(df,num_vid):\n",
    "    ret = []\n",
    "    urls = df['url']\n",
    "    for url in urls:\n",
    "        headers = { \n",
    "            'User-Agent': 'Mozilla/5.0 (Windows NT 10.0; WOW64) AppleWebKit/537.36 (KHTML, like Gecko) Chrome/67.0.3396.99 Safari/537.36'\n",
    "        } \n",
    "        try:\n",
    "            response = requests.get(url,headers=headers)\n",
    "\n",
    "            #将一段文档传入BeautifulSoup的构造方法,就能得到一个文档的对象, 可以传入一段字符串\n",
    "            soup = BeautifulSoup(response.text,'lxml')\n",
    "        except Exception as e:\n",
    "            print(e)\n",
    "        itm = soup.find(class_ = \"hot_link\")['href']\n",
    "        ret.append(itm)\n",
    "    return ret"
   ]
  },
  {
   "cell_type": "code",
   "execution_count": 165,
   "metadata": {},
   "outputs": [],
   "source": [
    "def get_tiktokComment(num_vid):\n",
    "    if (num_vid > 50):\n",
    "        print(\"number entered exceeded 50\")\n",
    "        return\n",
    "    f = codecs.open('tiktok_commments.csv','w','utf_8_sig')\n",
    "    word_writer = csv.writer(f)\n",
    "    word_writer.writerow([\"comment\",\"vid_title\",\"vid_url\"])\n",
    "    df = getUrls(num_vid)\n",
    "    urls = get_tiktokLink(df, num_vid)\n",
    "    tot = 0\n",
    "    for i in range(len(df)):\n",
    "        title = df.iloc[i].title\n",
    "        link = urls[i]\n",
    "        headers = { \n",
    "                'User-Agent': 'Mozilla/5.0 (Windows NT 10.0; WOW64) AppleWebKit/537.36 (KHTML, like Gecko) Chrome/67.0.3396.99 Safari/537.36'\n",
    "        } \n",
    "        try:\n",
    "            response = requests.get(link,headers=headers)\n",
    "            soup = BeautifulSoup(response.text,'lxml')\n",
    "        except Exception as e:\n",
    "            print(e)\n",
    "        comments = soup.getText().split(\"...\")[1:-1]\n",
    "        l = 0\n",
    "        for com in comments:\n",
    "            txt = com.split(\"展开\")[0]\n",
    "            word_writer.writerow([txt,title,url])\n",
    "            l+=1\n",
    "        print(title, \" finished. \", str(l), \" comments added\")\n",
    "        tot +=l\n",
    "    return tot"
   ]
  },
  {
   "cell_type": "code",
   "execution_count": 166,
   "metadata": {},
   "outputs": [],
   "source": [
    "def getTikTok():\n",
    "    num_vid = int(input(\"how many videos would you like to crawl?(max 50)\"))\n",
    "    try:\n",
    "        tot = get_tiktokComment(num_vid)\n",
    "    except Exception as e:\n",
    "        print(\"some error has occured.\")\n",
    "        print(e)\n",
    "    print(\"ALL FINISHED! \",num_vid, \" added; \",tot, \" comments added in total.\" )"
   ]
  },
  {
   "cell_type": "code",
   "execution_count": 167,
   "metadata": {},
   "outputs": [
    {
     "name": "stdout",
     "output_type": "stream",
     "text": [
      "how many videos would you like to crawl?(max 50)2\n",
      "全红婵才14岁  finished.  19  comments added\n",
      "张怡宁回应不让女儿玩银牌  finished.  20  comments added\n",
      "ALL FINISHED!  2  added;  39  comments added in total.\n"
     ]
    }
   ],
   "source": [
    "getTikTok()"
   ]
  },
  {
   "cell_type": "code",
   "execution_count": null,
   "metadata": {},
   "outputs": [],
   "source": []
  }
 ],
 "metadata": {
  "kernelspec": {
   "display_name": "Python 3",
   "language": "python",
   "name": "python3"
  },
  "language_info": {
   "codemirror_mode": {
    "name": "ipython",
    "version": 3
   },
   "file_extension": ".py",
   "mimetype": "text/x-python",
   "name": "python",
   "nbconvert_exporter": "python",
   "pygments_lexer": "ipython3",
   "version": "3.7.4"
  }
 },
 "nbformat": 4,
 "nbformat_minor": 2
}
